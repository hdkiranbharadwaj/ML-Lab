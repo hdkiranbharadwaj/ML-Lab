{
 "cells": [
  {
   "cell_type": "code",
   "execution_count": 1,
   "id": "b340f479",
   "metadata": {},
   "outputs": [],
   "source": [
    "import numpy as np"
   ]
  },
  {
   "cell_type": "code",
   "execution_count": 12,
   "id": "1237efdb",
   "metadata": {},
   "outputs": [
    {
     "name": "stdout",
     "output_type": "stream",
     "text": [
      "Enter the number of steps to rotate : 2\n",
      "Enter the elements of array : 1 2 3 4 5\n",
      "[3 4 5 1 2]\n"
     ]
    }
   ],
   "source": [
    "# Rotate a numpy array to left\n",
    "n = int(input(\"Enter the number of steps to rotate : \"))\n",
    "elements = input(\"Enter the elements of array : \").split()\n",
    "arr = np.array([int(element) for element in elements])\n",
    "rot_arr = np.concatenate((arr[n:],arr[:n]))\n",
    "print(rot_arr)"
   ]
  },
  {
   "cell_type": "code",
   "execution_count": 13,
   "id": "db2b7377",
   "metadata": {},
   "outputs": [
    {
     "name": "stdout",
     "output_type": "stream",
     "text": [
      "Enter the number of steps to rotate : 2\n",
      "Enter the elements of array : 1 2 3 4 5\n",
      "[4 5 1 2 3]\n"
     ]
    }
   ],
   "source": [
    "# Rotate a numpy array to right\n",
    "n = int(input(\"Enter the number of steps to rotate : \"))\n",
    "elements = input(\"Enter the elements of array : \").split()\n",
    "arr = np.array([int(element) for element in elements])\n",
    "rot_arr = np.concatenate((arr[-n:],arr[:-n]))\n",
    "print(rot_arr)"
   ]
  },
  {
   "cell_type": "code",
   "execution_count": 17,
   "id": "68a38a91",
   "metadata": {},
   "outputs": [
    {
     "name": "stdout",
     "output_type": "stream",
     "text": [
      "Enter the elements of array : 1 2 3 4 5\n",
      "Smallest element is 1 \n",
      "Largest element is 5\n"
     ]
    }
   ],
   "source": [
    "# Minimum and Maximum value in a tuple\n",
    "elements = input(\"Enter the elements of array : \").split()\n",
    "arr = tuple(map(int,elements))\n",
    "small = min(arr)\n",
    "large = max(arr)\n",
    "print(f\"Smallest element is {small} \\nLargest element is {large}\")"
   ]
  },
  {
   "cell_type": "code",
   "execution_count": 20,
   "id": "f07d6f6d",
   "metadata": {},
   "outputs": [
    {
     "name": "stdout",
     "output_type": "stream",
     "text": [
      "Enter the elements : 1 2 3 4 5\n",
      "The tuple is \n",
      "(1, 2, 3, 4, 5)\n",
      "Length of the array is 5\n"
     ]
    }
   ],
   "source": [
    "# Printing the tuple itens and finding the length of the tuple\n",
    "elements = input(\"Enter the elements : \").split()\n",
    "arr = tuple(map(int,elements))\n",
    "n = len(arr)\n",
    "print(f\"The tuple is \\n{arr}\\nLength of the array is {n}\")"
   ]
  },
  {
   "cell_type": "code",
   "execution_count": 22,
   "id": "c9210600",
   "metadata": {},
   "outputs": [
    {
     "name": "stdout",
     "output_type": "stream",
     "text": [
      "Enter the string : Kiran is legend legend is legendary Kiran is great so is legend \n",
      "{'Kiran': 2, 'is': 4, 'legend': 3, 'legendary': 1, 'great': 1, 'so': 1}\n"
     ]
    }
   ],
   "source": [
    "# Program to count the frequency of words in the string\n",
    "str1 = input(\"Enter the string : \").split()\n",
    "has = {}\n",
    "for i in str1 :\n",
    "    if i not in has :\n",
    "        has[i] = 1\n",
    "    else:\n",
    "        has[i] += 1\n",
    "print(has)"
   ]
  },
  {
   "cell_type": "code",
   "execution_count": 24,
   "id": "f3d00412",
   "metadata": {},
   "outputs": [
    {
     "name": "stdout",
     "output_type": "stream",
     "text": [
      "Enter the list items : 1 2 3 4 5\n",
      "['1', '2', '3', '4', '5']\n",
      "12345\n"
     ]
    }
   ],
   "source": [
    "# List to String\n",
    "lis = input(\"Enter the list items : \").split()\n",
    "print(lis)\n",
    "str1 = \"\".join(lis)\n",
    "print(str1)"
   ]
  },
  {
   "cell_type": "code",
   "execution_count": 30,
   "id": "a115da53",
   "metadata": {},
   "outputs": [
    {
     "name": "stdout",
     "output_type": "stream",
     "text": [
      "Enter the list items : 1 2 3 4 5\n",
      "['1', '2', '3', '4', '5']\n",
      "('1', '2', '3', '4', '5')\n"
     ]
    }
   ],
   "source": [
    "# List to tuple\n",
    "lis = input(\"Enter the list items : \").split()\n",
    "print(lis)\n",
    "tup = tuple(lis)\n",
    "print(tup)"
   ]
  },
  {
   "cell_type": "code",
   "execution_count": 23,
   "id": "aee9e6f4",
   "metadata": {},
   "outputs": [
    {
     "name": "stdout",
     "output_type": "stream",
     "text": [
      "Initial linked list:\n",
      "1 -> 2 -> 4 -> None\n",
      "Linked list after insertion:\n",
      "1 -> 2 -> 3 -> 4 -> None\n",
      "Linked list after prepending:\n",
      "0 -> 1 -> 2 -> 3 -> 4 -> None\n"
     ]
    }
   ],
   "source": [
    "# Implementation of linked list\n",
    "class Node:\n",
    "    def __init__(self, data):\n",
    "        self.data = data\n",
    "        self.next = None\n",
    "\n",
    "class LinkedList:\n",
    "    def __init__(self):\n",
    "        self.head = None\n",
    "\n",
    "    def append(self, data):\n",
    "        new_node = Node(data)\n",
    "        if self.head is None:\n",
    "            self.head = new_node\n",
    "            return\n",
    "        last_node = self.head\n",
    "        while last_node.next:\n",
    "            last_node = last_node.next\n",
    "        last_node.next = new_node\n",
    "\n",
    "    def prepend(self, data):\n",
    "        new_node = Node(data)\n",
    "        new_node.next = self.head\n",
    "        self.head = new_node\n",
    "\n",
    "    def insert_after(self, prev_node, data):\n",
    "        if prev_node is None:\n",
    "            print(\"Previous node must not be None\")\n",
    "            return\n",
    "        new_node = Node(data)\n",
    "        new_node.next = prev_node.next\n",
    "        prev_node.next = new_node\n",
    "\n",
    "    def display(self):\n",
    "        current = self.head\n",
    "        while current:\n",
    "            print(current.data, end=\" -> \")\n",
    "            current = current.next\n",
    "        print(\"None\")\n",
    "\n",
    "if __name__ == \"__main__\":\n",
    "    # Creating a linked list\n",
    "    linked_list = LinkedList()\n",
    "\n",
    "    # Appending elements to the linked list\n",
    "    linked_list.append(1)\n",
    "    linked_list.append(2)\n",
    "    linked_list.append(4)\n",
    "\n",
    "    # Displaying the linked list\n",
    "    print(\"Initial linked list:\")\n",
    "    linked_list.display()\n",
    "\n",
    "    # Inserting 3 after node 2\n",
    "    linked_list.insert_after(linked_list.head.next, 3)\n",
    "\n",
    "    # Displaying the linked list after insertion\n",
    "    print(\"Linked list after insertion:\")\n",
    "    linked_list.display()\n",
    "\n",
    "    # Inserting 0 at the beginning\n",
    "    linked_list.prepend(0)\n",
    "\n",
    "    # Displaying the linked list after prepending\n",
    "    print(\"Linked list after prepending:\")\n",
    "    linked_list.display()\n"
   ]
  },
  {
   "cell_type": "code",
   "execution_count": 31,
   "id": "d46e6287",
   "metadata": {},
   "outputs": [
    {
     "name": "stdout",
     "output_type": "stream",
     "text": [
      "List after appending elements: [1, 2, 3]\n",
      "Popped element: 3\n",
      "List after popping: [1, 2]\n",
      "List after pushing: [1, 2, 4]\n",
      "List after removing element 2: [1, 4]\n"
     ]
    }
   ],
   "source": [
    "# Array operations\n",
    "\n",
    "# Initialize an empty list\n",
    "my_list = []\n",
    "\n",
    "# Append elements to the list\n",
    "my_list.append(1)\n",
    "my_list.append(2)\n",
    "my_list.append(3)\n",
    "\n",
    "print(\"List after appending elements:\", my_list)\n",
    "\n",
    "# Pop the last element from the list\n",
    "popped_element = my_list.pop()\n",
    "print(\"Popped element:\", popped_element)\n",
    "print(\"List after popping:\", my_list)\n",
    "\n",
    "# Push (append) another element\n",
    "my_list.append(4)\n",
    "print(\"List after pushing:\", my_list)\n",
    "\n",
    "# Remove an element from the list\n",
    "my_list.remove(2)\n",
    "print(\"List after removing element 2:\", my_list)\n",
    "\n"
   ]
  },
  {
   "cell_type": "code",
   "execution_count": 32,
   "id": "0bb85952",
   "metadata": {},
   "outputs": [
    {
     "name": "stdout",
     "output_type": "stream",
     "text": [
      "Inorder Traversal of the BST:\n",
      "20 30 40 50 60 70 80 "
     ]
    }
   ],
   "source": [
    "# BST in python\n",
    "class TreeNode:\n",
    "    def __init__(self, key):\n",
    "        self.val = key\n",
    "        self.left = None\n",
    "        self.right = None\n",
    "\n",
    "class BST:\n",
    "    def __init__(self):\n",
    "        self.root = None\n",
    "\n",
    "    def insert(self, root, key):\n",
    "        if root is None:\n",
    "            return TreeNode(key)\n",
    "        else:\n",
    "            if root.val < key:\n",
    "                root.right = self.insert(root.right, key)\n",
    "            else:\n",
    "                root.left = self.insert(root.left, key)\n",
    "        return root\n",
    "\n",
    "    def inorder_traversal(self, root):\n",
    "        if root:\n",
    "            self.inorder_traversal(root.left)\n",
    "            print(root.val, end=\" \")\n",
    "            self.inorder_traversal(root.right)\n",
    "\n",
    "if __name__ == \"__main__\":\n",
    "    bst = BST()\n",
    "    elements = [50, 30, 20, 40, 70, 60, 80]\n",
    "\n",
    "    for element in elements:\n",
    "        bst.root = bst.insert(bst.root, element)\n",
    "\n",
    "    # Perform inorder traversal to print the elements in sorted order\n",
    "    print(\"Inorder Traversal of the BST:\")\n",
    "    bst.inorder_traversal(bst.root)\n"
   ]
  },
  {
   "cell_type": "code",
   "execution_count": 37,
   "id": "c56e193e",
   "metadata": {},
   "outputs": [
    {
     "name": "stdout",
     "output_type": "stream",
     "text": [
      "Following is the Depth-First Search\n",
      "5->3->2->4->8->7->Null\n"
     ]
    }
   ],
   "source": [
    "# DFS in python\n",
    "\n",
    "# Using a Python dictionary to act as an adjacency list\n",
    "graph = {\n",
    "  '5' : ['3','7'],\n",
    "  '3' : ['2', '4'],\n",
    "  '7' : ['8'],\n",
    "  '2' : [],\n",
    "  '4' : ['8'],\n",
    "  '8' : []\n",
    "}\n",
    "\n",
    "visited = set() # Set to keep track of visited nodes of graph.\n",
    "\n",
    "def dfs(visited, graph, node):  #function for dfs \n",
    "    if node not in visited:\n",
    "        print (node, end=\"->\")\n",
    "        visited.add(node)\n",
    "        for neighbour in graph[node]:\n",
    "            dfs(visited, graph, neighbour)\n",
    "\n",
    "# Driver Code\n",
    "print(\"Following is the Depth-First Search\")\n",
    "dfs(visited, graph, '5')\n",
    "print(\"Null\")"
   ]
  }
 ],
 "metadata": {
  "kernelspec": {
   "display_name": "Python 3 (ipykernel)",
   "language": "python",
   "name": "python3"
  },
  "language_info": {
   "codemirror_mode": {
    "name": "ipython",
    "version": 3
   },
   "file_extension": ".py",
   "mimetype": "text/x-python",
   "name": "python",
   "nbconvert_exporter": "python",
   "pygments_lexer": "ipython3",
   "version": "3.10.9"
  }
 },
 "nbformat": 4,
 "nbformat_minor": 5
}
